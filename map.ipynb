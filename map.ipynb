{
 "cells": [
  {
   "cell_type": "code",
   "execution_count": 1,
   "metadata": {},
   "outputs": [],
   "source": [
    "import pandas as pd\n",
    "import geopandas as gpd\n",
    "\n",
    "gdf = gpd.read_file('data/SHP ECT attributes/2566_TH_ECT_attributes.shp')\n",
    "\n",
    "df = pd.read_csv('data/poom_ballot_location.csv')\n"
   ]
  },
  {
   "cell_type": "code",
   "execution_count": 3,
   "metadata": {},
   "outputs": [
    {
     "data": {
      "text/html": [
       "<div>\n",
       "<style scoped>\n",
       "    .dataframe tbody tr th:only-of-type {\n",
       "        vertical-align: middle;\n",
       "    }\n",
       "\n",
       "    .dataframe tbody tr th {\n",
       "        vertical-align: top;\n",
       "    }\n",
       "\n",
       "    .dataframe thead th {\n",
       "        text-align: right;\n",
       "    }\n",
       "</style>\n",
       "<table border=\"1\" class=\"dataframe\">\n",
       "  <thead>\n",
       "    <tr style=\"text-align: right;\">\n",
       "      <th></th>\n",
       "      <th>P_name</th>\n",
       "      <th>CONS_no</th>\n",
       "      <th>ID_name</th>\n",
       "      <th>geometry</th>\n",
       "    </tr>\n",
       "  </thead>\n",
       "  <tbody>\n",
       "    <tr>\n",
       "      <th>0</th>\n",
       "      <td>กระบี่</td>\n",
       "      <td>3</td>\n",
       "      <td>กระบี่_3</td>\n",
       "      <td>MULTIPOLYGON (((99.26220 7.66229, 99.26186 7.6...</td>\n",
       "    </tr>\n",
       "    <tr>\n",
       "      <th>1</th>\n",
       "      <td>กระบี่</td>\n",
       "      <td>1</td>\n",
       "      <td>กระบี่_1</td>\n",
       "      <td>MULTIPOLYGON (((99.07948 7.89818, 99.07964 7.8...</td>\n",
       "    </tr>\n",
       "    <tr>\n",
       "      <th>2</th>\n",
       "      <td>กระบี่</td>\n",
       "      <td>2</td>\n",
       "      <td>กระบี่_2</td>\n",
       "      <td>MULTIPOLYGON (((98.72607 8.24924, 98.72538 8.2...</td>\n",
       "    </tr>\n",
       "    <tr>\n",
       "      <th>3</th>\n",
       "      <td>กรุงเทพมหานคร</td>\n",
       "      <td>29</td>\n",
       "      <td>กรุงเทพมหานคร_29</td>\n",
       "      <td>POLYGON ((100.33093 13.70413, 100.33179 13.704...</td>\n",
       "    </tr>\n",
       "    <tr>\n",
       "      <th>4</th>\n",
       "      <td>กรุงเทพมหานคร</td>\n",
       "      <td>28</td>\n",
       "      <td>กรุงเทพมหานคร_28</td>\n",
       "      <td>POLYGON ((100.40481 13.66259, 100.40481 13.662...</td>\n",
       "    </tr>\n",
       "  </tbody>\n",
       "</table>\n",
       "</div>"
      ],
      "text/plain": [
       "          P_name  CONS_no           ID_name   \n",
       "0         กระบี่        3          กระบี่_3  \\\n",
       "1         กระบี่        1          กระบี่_1   \n",
       "2         กระบี่        2          กระบี่_2   \n",
       "3  กรุงเทพมหานคร       29  กรุงเทพมหานคร_29   \n",
       "4  กรุงเทพมหานคร       28  กรุงเทพมหานคร_28   \n",
       "\n",
       "                                            geometry  \n",
       "0  MULTIPOLYGON (((99.26220 7.66229, 99.26186 7.6...  \n",
       "1  MULTIPOLYGON (((99.07948 7.89818, 99.07964 7.8...  \n",
       "2  MULTIPOLYGON (((98.72607 8.24924, 98.72538 8.2...  \n",
       "3  POLYGON ((100.33093 13.70413, 100.33179 13.704...  \n",
       "4  POLYGON ((100.40481 13.66259, 100.40481 13.662...  "
      ]
     },
     "execution_count": 3,
     "metadata": {},
     "output_type": "execute_result"
    }
   ],
   "source": [
    "gdf.head()"
   ]
  },
  {
   "cell_type": "code",
   "execution_count": 4,
   "metadata": {},
   "outputs": [
    {
     "data": {
      "text/html": [
       "<div>\n",
       "<style scoped>\n",
       "    .dataframe tbody tr th:only-of-type {\n",
       "        vertical-align: middle;\n",
       "    }\n",
       "\n",
       "    .dataframe tbody tr th {\n",
       "        vertical-align: top;\n",
       "    }\n",
       "\n",
       "    .dataframe thead th {\n",
       "        text-align: right;\n",
       "    }\n",
       "</style>\n",
       "<table border=\"1\" class=\"dataframe\">\n",
       "  <thead>\n",
       "    <tr style=\"text-align: right;\">\n",
       "      <th></th>\n",
       "      <th>title</th>\n",
       "      <th>province</th>\n",
       "      <th>order</th>\n",
       "      <th>google_title</th>\n",
       "      <th>address</th>\n",
       "      <th>place_id</th>\n",
       "      <th>status</th>\n",
       "      <th>latitude</th>\n",
       "      <th>longitude</th>\n",
       "    </tr>\n",
       "  </thead>\n",
       "  <tbody>\n",
       "    <tr>\n",
       "      <th>0</th>\n",
       "      <td>โรงเรียนอนุบาลกระบี่ ถนนท่าเรือ อำเภอเมืองกระบี่</td>\n",
       "      <td>กระบี่</td>\n",
       "      <td>1</td>\n",
       "      <td>โรงเรียนอนุบาลกระบี่</td>\n",
       "      <td>1 Utarakit Rd, Pak Nam, Mueang Krabi District,...</td>\n",
       "      <td>ChIJ44eKd7mUUTARnz_JuJNdjUo</td>\n",
       "      <td>OPERATIONAL</td>\n",
       "      <td>8.050567</td>\n",
       "      <td>98.908363</td>\n",
       "    </tr>\n",
       "    <tr>\n",
       "      <th>1</th>\n",
       "      <td>โรงเรียนอ่าวลึกประชาสรรค์ อำเภออ่าวลึก</td>\n",
       "      <td>กระบี่</td>\n",
       "      <td>2</td>\n",
       "      <td>Ao Luek Prachasan School</td>\n",
       "      <td>9PXV+X3C, Ao Luek Tai, Ao Luek District, Krabi...</td>\n",
       "      <td>ChIJQ5EYNfcJUTAROAKpO1NcDQg</td>\n",
       "      <td>OPERATIONAL</td>\n",
       "      <td>8.399940</td>\n",
       "      <td>98.742651</td>\n",
       "    </tr>\n",
       "    <tr>\n",
       "      <th>2</th>\n",
       "      <td>หอประชุมโรงเรียนคลองท่อมราษฎร์รังสรรค์ อำเภอคล...</td>\n",
       "      <td>กระบี่</td>\n",
       "      <td>3</td>\n",
       "      <td>Khlong Thom Ratrangsan School</td>\n",
       "      <td>207 Petchkasem Rd, Khlong Thom Tai, Khlong Tho...</td>\n",
       "      <td>ChIJV-bOFCv0UTARUgh9EoEBmAU</td>\n",
       "      <td>OPERATIONAL</td>\n",
       "      <td>7.947897</td>\n",
       "      <td>99.145669</td>\n",
       "    </tr>\n",
       "    <tr>\n",
       "      <th>3</th>\n",
       "      <td>บริเวณลานจอดรถสำนักงานเขตพระนคร</td>\n",
       "      <td>กรุงเทพ</td>\n",
       "      <td>1</td>\n",
       "      <td>ลานจอดรถ J Park เสาชิงช้า</td>\n",
       "      <td>83 Bamrung Mueang Rd, Sao Chingcha, Phra Nakho...</td>\n",
       "      <td>ChIJHQaeVXSZ4jARaW8LwusBaro</td>\n",
       "      <td>OPERATIONAL</td>\n",
       "      <td>13.752082</td>\n",
       "      <td>100.498755</td>\n",
       "    </tr>\n",
       "    <tr>\n",
       "      <th>4</th>\n",
       "      <td>บริเวณสำนักงานเขตป้อมปราบศัตรูพ่าย</td>\n",
       "      <td>กรุงเทพ</td>\n",
       "      <td>1</td>\n",
       "      <td>Pom Prap Sattru Phai District Office</td>\n",
       "      <td>50 Thanon Suppha Mit, Wat Sommanat, Pom Prap S...</td>\n",
       "      <td>ChIJceCxnj-Z4jARzcJ6U54enY0</td>\n",
       "      <td>OPERATIONAL</td>\n",
       "      <td>13.758240</td>\n",
       "      <td>100.513072</td>\n",
       "    </tr>\n",
       "  </tbody>\n",
       "</table>\n",
       "</div>"
      ],
      "text/plain": [
       "                                               title province  order   \n",
       "0   โรงเรียนอนุบาลกระบี่ ถนนท่าเรือ อำเภอเมืองกระบี่   กระบี่      1  \\\n",
       "1             โรงเรียนอ่าวลึกประชาสรรค์ อำเภออ่าวลึก   กระบี่      2   \n",
       "2  หอประชุมโรงเรียนคลองท่อมราษฎร์รังสรรค์ อำเภอคล...   กระบี่      3   \n",
       "3                    บริเวณลานจอดรถสำนักงานเขตพระนคร  กรุงเทพ      1   \n",
       "4                 บริเวณสำนักงานเขตป้อมปราบศัตรูพ่าย  กรุงเทพ      1   \n",
       "\n",
       "                           google_title   \n",
       "0                  โรงเรียนอนุบาลกระบี่  \\\n",
       "1              Ao Luek Prachasan School   \n",
       "2         Khlong Thom Ratrangsan School   \n",
       "3             ลานจอดรถ J Park เสาชิงช้า   \n",
       "4  Pom Prap Sattru Phai District Office   \n",
       "\n",
       "                                             address   \n",
       "0  1 Utarakit Rd, Pak Nam, Mueang Krabi District,...  \\\n",
       "1  9PXV+X3C, Ao Luek Tai, Ao Luek District, Krabi...   \n",
       "2  207 Petchkasem Rd, Khlong Thom Tai, Khlong Tho...   \n",
       "3  83 Bamrung Mueang Rd, Sao Chingcha, Phra Nakho...   \n",
       "4  50 Thanon Suppha Mit, Wat Sommanat, Pom Prap S...   \n",
       "\n",
       "                      place_id       status   latitude   longitude  \n",
       "0  ChIJ44eKd7mUUTARnz_JuJNdjUo  OPERATIONAL   8.050567   98.908363  \n",
       "1  ChIJQ5EYNfcJUTAROAKpO1NcDQg  OPERATIONAL   8.399940   98.742651  \n",
       "2  ChIJV-bOFCv0UTARUgh9EoEBmAU  OPERATIONAL   7.947897   99.145669  \n",
       "3  ChIJHQaeVXSZ4jARaW8LwusBaro  OPERATIONAL  13.752082  100.498755  \n",
       "4  ChIJceCxnj-Z4jARzcJ6U54enY0  OPERATIONAL  13.758240  100.513072  "
      ]
     },
     "execution_count": 4,
     "metadata": {},
     "output_type": "execute_result"
    }
   ],
   "source": [
    "df.head()"
   ]
  },
  {
   "cell_type": "code",
   "execution_count": 5,
   "metadata": {},
   "outputs": [
    {
     "data": {
      "text/plain": [
       "title           444\n",
       "province        444\n",
       "order           444\n",
       "google_title    444\n",
       "address         444\n",
       "place_id        444\n",
       "status          444\n",
       "latitude        444\n",
       "longitude       444\n",
       "dtype: int64"
      ]
     },
     "execution_count": 5,
     "metadata": {},
     "output_type": "execute_result"
    }
   ],
   "source": [
    "df.count()"
   ]
  },
  {
   "cell_type": "code",
   "execution_count": 6,
   "metadata": {},
   "outputs": [
    {
     "name": "stdout",
     "output_type": "stream",
     "text": [
      "User Guide: https://docs.kepler.gl/docs/keplergl-jupyter\n"
     ]
    },
    {
     "data": {
      "application/vnd.jupyter.widget-view+json": {
       "model_id": "ef23b9715a0541bc8f1a4ac1af30d806",
       "version_major": 2,
       "version_minor": 0
      },
      "text/plain": [
       "KeplerGl(data={'เขตเลือกตั้ง 2566': {'index': [0, 1, 2, 3, 4, 5, 6, 7, 8, 9, 10, 11, 12, 13, 14, 15, 16, 17, 1…"
      ]
     },
     "metadata": {},
     "output_type": "display_data"
    }
   ],
   "source": [
    "from keplergl import KeplerGl\n",
    "map_1 = KeplerGl()\n",
    "map_1.add_data(data=gdf, name='เขตเลือกตั้ง 2566')\n",
    "map_1.add_data(data=df, name='สถานที่ลงคะแนนเลือกตั้ง Poom')\n",
    "map_1"
   ]
  },
  {
   "cell_type": "code",
   "execution_count": null,
   "metadata": {},
   "outputs": [],
   "source": []
  }
 ],
 "metadata": {
  "kernelspec": {
   "display_name": "ballot",
   "language": "python",
   "name": "python3"
  },
  "language_info": {
   "codemirror_mode": {
    "name": "ipython",
    "version": 3
   },
   "file_extension": ".py",
   "mimetype": "text/x-python",
   "name": "python",
   "nbconvert_exporter": "python",
   "pygments_lexer": "ipython3",
   "version": "3.10.10"
  },
  "orig_nbformat": 4
 },
 "nbformat": 4,
 "nbformat_minor": 2
}
