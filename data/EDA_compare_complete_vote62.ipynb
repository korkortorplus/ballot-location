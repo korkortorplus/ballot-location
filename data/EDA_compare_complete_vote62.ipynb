{
 "cells": [
  {
   "cell_type": "code",
   "execution_count": 1,
   "metadata": {},
   "outputs": [],
   "source": [
    "import pandas as pd"
   ]
  },
  {
   "cell_type": "code",
   "execution_count": 2,
   "metadata": {},
   "outputs": [],
   "source": [
    "vote62 = pd.read_parquet(\"source/vote62/vote62_10052023.parquet\")\n",
    "complete = pd.read_csv(\"ballot_complete_clean.csv.gz\", compression=\"gzip\")"
   ]
  },
  {
   "cell_type": "code",
   "execution_count": null,
   "metadata": {},
   "outputs": [],
   "source": [
    "comp"
   ]
  },
  {
   "cell_type": "code",
   "execution_count": 4,
   "metadata": {},
   "outputs": [
    {
     "data": {
      "text/html": [
       "<div>\n",
       "<style scoped>\n",
       "    .dataframe tbody tr th:only-of-type {\n",
       "        vertical-align: middle;\n",
       "    }\n",
       "\n",
       "    .dataframe tbody tr th {\n",
       "        vertical-align: top;\n",
       "    }\n",
       "\n",
       "    .dataframe thead th {\n",
       "        text-align: right;\n",
       "    }\n",
       "</style>\n",
       "<table border=\"1\" class=\"dataframe\">\n",
       "  <thead>\n",
       "    <tr style=\"text-align: right;\">\n",
       "      <th></th>\n",
       "      <th>division_number</th>\n",
       "      <th>id</th>\n",
       "      <th>is_verify</th>\n",
       "      <th>total_volunteers</th>\n",
       "      <th>unit_info</th>\n",
       "      <th>unit_number</th>\n",
       "      <th>Province</th>\n",
       "      <th>Amphur</th>\n",
       "      <th>Tambon</th>\n",
       "    </tr>\n",
       "  </thead>\n",
       "  <tbody>\n",
       "    <tr>\n",
       "      <th>0</th>\n",
       "      <td>3</td>\n",
       "      <td>39261</td>\n",
       "      <td>False</td>\n",
       "      <td>1.0</td>\n",
       "      <td>โรงเรียนรุ่งอรุณศึกษา</td>\n",
       "      <td>1</td>\n",
       "      <td>กระบี่</td>\n",
       "      <td>คลองท่อม</td>\n",
       "      <td>ทรายขาว</td>\n",
       "    </tr>\n",
       "    <tr>\n",
       "      <th>1</th>\n",
       "      <td>3</td>\n",
       "      <td>39262</td>\n",
       "      <td>False</td>\n",
       "      <td>1.0</td>\n",
       "      <td>โรงเรียนบ้านห้วยลึก</td>\n",
       "      <td>2</td>\n",
       "      <td>กระบี่</td>\n",
       "      <td>คลองท่อม</td>\n",
       "      <td>ทรายขาว</td>\n",
       "    </tr>\n",
       "    <tr>\n",
       "      <th>0</th>\n",
       "      <td>3</td>\n",
       "      <td>39391</td>\n",
       "      <td>False</td>\n",
       "      <td>2.0</td>\n",
       "      <td>ศาลาอเนกประสงค์ประจำหมู่บ้าน หมู่ที่ 1 ตำบลพรุ...</td>\n",
       "      <td>1</td>\n",
       "      <td>กระบี่</td>\n",
       "      <td>คลองท่อม</td>\n",
       "      <td>พรุดินนา</td>\n",
       "    </tr>\n",
       "    <tr>\n",
       "      <th>3</th>\n",
       "      <td>3</td>\n",
       "      <td>39394</td>\n",
       "      <td>False</td>\n",
       "      <td>NaN</td>\n",
       "      <td>โรงพยาบาลส่งเสริมสุขภาพตำบลพรุดินนา หมู่ที่ 2 ...</td>\n",
       "      <td>4</td>\n",
       "      <td>กระบี่</td>\n",
       "      <td>คลองท่อม</td>\n",
       "      <td>พรุดินนา</td>\n",
       "    </tr>\n",
       "    <tr>\n",
       "      <th>7</th>\n",
       "      <td>3</td>\n",
       "      <td>39398</td>\n",
       "      <td>False</td>\n",
       "      <td>3.0</td>\n",
       "      <td>ศาลาอเนกประสงค์ประจำหมู่บ้าน หมู่ที่ 5 ตำบลพรุ...</td>\n",
       "      <td>8</td>\n",
       "      <td>กระบี่</td>\n",
       "      <td>คลองท่อม</td>\n",
       "      <td>พรุดินนา</td>\n",
       "    </tr>\n",
       "  </tbody>\n",
       "</table>\n",
       "</div>"
      ],
      "text/plain": [
       "  division_number     id  is_verify  total_volunteers   \n",
       "0               3  39261      False               1.0  \\\n",
       "1               3  39262      False               1.0   \n",
       "0               3  39391      False               2.0   \n",
       "3               3  39394      False               NaN   \n",
       "7               3  39398      False               3.0   \n",
       "\n",
       "                                           unit_info  unit_number Province   \n",
       "0                              โรงเรียนรุ่งอรุณศึกษา            1   กระบี่  \\\n",
       "1                                โรงเรียนบ้านห้วยลึก            2   กระบี่   \n",
       "0  ศาลาอเนกประสงค์ประจำหมู่บ้าน หมู่ที่ 1 ตำบลพรุ...            1   กระบี่   \n",
       "3  โรงพยาบาลส่งเสริมสุขภาพตำบลพรุดินนา หมู่ที่ 2 ...            4   กระบี่   \n",
       "7  ศาลาอเนกประสงค์ประจำหมู่บ้าน หมู่ที่ 5 ตำบลพรุ...            8   กระบี่   \n",
       "\n",
       "     Amphur    Tambon  \n",
       "0  คลองท่อม   ทรายขาว  \n",
       "1  คลองท่อม   ทรายขาว  \n",
       "0  คลองท่อม  พรุดินนา  \n",
       "3  คลองท่อม  พรุดินนา  \n",
       "7  คลองท่อม  พรุดินนา  "
      ]
     },
     "execution_count": 4,
     "metadata": {},
     "output_type": "execute_result"
    }
   ],
   "source": [
    "vote62.head()"
   ]
  },
  {
   "cell_type": "code",
   "execution_count": 5,
   "metadata": {},
   "outputs": [
    {
     "data": {
      "text/html": [
       "<div>\n",
       "<style scoped>\n",
       "    .dataframe tbody tr th:only-of-type {\n",
       "        vertical-align: middle;\n",
       "    }\n",
       "\n",
       "    .dataframe tbody tr th {\n",
       "        vertical-align: top;\n",
       "    }\n",
       "\n",
       "    .dataframe thead th {\n",
       "        text-align: right;\n",
       "    }\n",
       "</style>\n",
       "<table border=\"1\" class=\"dataframe\">\n",
       "  <thead>\n",
       "    <tr style=\"text-align: right;\">\n",
       "      <th></th>\n",
       "      <th>รหัสจังหวัด</th>\n",
       "      <th>จังหวัด</th>\n",
       "      <th>รหัสสำนักทะเบียน</th>\n",
       "      <th>สำนักทะเบียน</th>\n",
       "      <th>รหัสตำบล</th>\n",
       "      <th>ตำบล</th>\n",
       "      <th>เขตเลือกตั้ง</th>\n",
       "      <th>หน่วยเลือกตั้ง</th>\n",
       "      <th>สถานที่เลือกตั้ง</th>\n",
       "      <th>อธิบายเพิ่มเติมสถานที่เลือกตั้ง</th>\n",
       "      <th>NER</th>\n",
       "    </tr>\n",
       "  </thead>\n",
       "  <tbody>\n",
       "    <tr>\n",
       "      <th>0</th>\n",
       "      <td>10</td>\n",
       "      <td>กรุงเทพมหานคร</td>\n",
       "      <td>1001</td>\n",
       "      <td>ท้องถิ่นเขตพระนคร</td>\n",
       "      <td>100101</td>\n",
       "      <td>พระบรมมหาราชวัง</td>\n",
       "      <td>1</td>\n",
       "      <td>1</td>\n",
       "      <td>หอประชุม มหาวิทยาลัยศิลปากร ถนนมหาราช</td>\n",
       "      <td>NaN</td>\n",
       "      <td>&lt;FACILITY&gt;หอประชุม มหาวิทยาลัยศิลปากร ถนนมหารา...</td>\n",
       "    </tr>\n",
       "    <tr>\n",
       "      <th>1</th>\n",
       "      <td>10</td>\n",
       "      <td>กรุงเทพมหานคร</td>\n",
       "      <td>1001</td>\n",
       "      <td>ท้องถิ่นเขตพระนคร</td>\n",
       "      <td>100101</td>\n",
       "      <td>พระบรมมหาราชวัง</td>\n",
       "      <td>1</td>\n",
       "      <td>2</td>\n",
       "      <td>โรงเรียนวัดมหาธาตุ ถนนพระจันทร์</td>\n",
       "      <td>NaN</td>\n",
       "      <td>&lt;FACILITY&gt;โรงเรียนวัดมหาธาตุ ถนนพระจันทร์&lt;/FAC...</td>\n",
       "    </tr>\n",
       "    <tr>\n",
       "      <th>2</th>\n",
       "      <td>10</td>\n",
       "      <td>กรุงเทพมหานคร</td>\n",
       "      <td>1001</td>\n",
       "      <td>ท้องถิ่นเขตพระนคร</td>\n",
       "      <td>100101</td>\n",
       "      <td>พระบรมมหาราชวัง</td>\n",
       "      <td>1</td>\n",
       "      <td>3</td>\n",
       "      <td>ศาลาหน้าอาคารวาสนะประทานวิทยาสิทธิ์ 1 โรงเรียน...</td>\n",
       "      <td>ถนนสนามไชย</td>\n",
       "      <td>ศาลาหน้า&lt;FACILITY&gt;อาคารวาสนะประทานวิทยาสิทธิ์ ...</td>\n",
       "    </tr>\n",
       "    <tr>\n",
       "      <th>3</th>\n",
       "      <td>10</td>\n",
       "      <td>กรุงเทพมหานคร</td>\n",
       "      <td>1001</td>\n",
       "      <td>ท้องถิ่นเขตพระนคร</td>\n",
       "      <td>100101</td>\n",
       "      <td>พระบรมมหาราชวัง</td>\n",
       "      <td>1</td>\n",
       "      <td>4</td>\n",
       "      <td>โรงเรียนวัดพระเชตุพน ถนนมหาราช</td>\n",
       "      <td>NaN</td>\n",
       "      <td>&lt;FACILITY&gt;โรงเรียนวัดพระเชตุพน ถนนมหาราช&lt;/FACI...</td>\n",
       "    </tr>\n",
       "    <tr>\n",
       "      <th>4</th>\n",
       "      <td>10</td>\n",
       "      <td>กรุงเทพมหานคร</td>\n",
       "      <td>1001</td>\n",
       "      <td>ท้องถิ่นเขตพระนคร</td>\n",
       "      <td>100102</td>\n",
       "      <td>วังบูรพาภิรมย์</td>\n",
       "      <td>1</td>\n",
       "      <td>1</td>\n",
       "      <td>ตึกสามัคยาจารย์ โรงเรียนสวนกุหลาบวิทยาลัย ถนนต...</td>\n",
       "      <td>NaN</td>\n",
       "      <td>&lt;FACILITY&gt;ตึกสามัคยา&lt;/FACILITY&gt;จารย์ &lt;FACILITY...</td>\n",
       "    </tr>\n",
       "  </tbody>\n",
       "</table>\n",
       "</div>"
      ],
      "text/plain": [
       "   รหัสจังหวัด        จังหวัด  รหัสสำนักทะเบียน       สำนักทะเบียน  รหัสตำบล   \n",
       "0           10  กรุงเทพมหานคร              1001  ท้องถิ่นเขตพระนคร    100101  \\\n",
       "1           10  กรุงเทพมหานคร              1001  ท้องถิ่นเขตพระนคร    100101   \n",
       "2           10  กรุงเทพมหานคร              1001  ท้องถิ่นเขตพระนคร    100101   \n",
       "3           10  กรุงเทพมหานคร              1001  ท้องถิ่นเขตพระนคร    100101   \n",
       "4           10  กรุงเทพมหานคร              1001  ท้องถิ่นเขตพระนคร    100102   \n",
       "\n",
       "              ตำบล  เขตเลือกตั้ง  หน่วยเลือกตั้ง   \n",
       "0  พระบรมมหาราชวัง             1               1  \\\n",
       "1  พระบรมมหาราชวัง             1               2   \n",
       "2  พระบรมมหาราชวัง             1               3   \n",
       "3  พระบรมมหาราชวัง             1               4   \n",
       "4   วังบูรพาภิรมย์             1               1   \n",
       "\n",
       "                                    สถานที่เลือกตั้ง   \n",
       "0              หอประชุม มหาวิทยาลัยศิลปากร ถนนมหาราช  \\\n",
       "1                    โรงเรียนวัดมหาธาตุ ถนนพระจันทร์   \n",
       "2  ศาลาหน้าอาคารวาสนะประทานวิทยาสิทธิ์ 1 โรงเรียน...   \n",
       "3                     โรงเรียนวัดพระเชตุพน ถนนมหาราช   \n",
       "4  ตึกสามัคยาจารย์ โรงเรียนสวนกุหลาบวิทยาลัย ถนนต...   \n",
       "\n",
       "  อธิบายเพิ่มเติมสถานที่เลือกตั้ง   \n",
       "0                             NaN  \\\n",
       "1                             NaN   \n",
       "2                      ถนนสนามไชย   \n",
       "3                             NaN   \n",
       "4                             NaN   \n",
       "\n",
       "                                                 NER  \n",
       "0  <FACILITY>หอประชุม มหาวิทยาลัยศิลปากร ถนนมหารา...  \n",
       "1  <FACILITY>โรงเรียนวัดมหาธาตุ ถนนพระจันทร์</FAC...  \n",
       "2  ศาลาหน้า<FACILITY>อาคารวาสนะประทานวิทยาสิทธิ์ ...  \n",
       "3  <FACILITY>โรงเรียนวัดพระเชตุพน ถนนมหาราช</FACI...  \n",
       "4  <FACILITY>ตึกสามัคยา</FACILITY>จารย์ <FACILITY...  "
      ]
     },
     "execution_count": 5,
     "metadata": {},
     "output_type": "execute_result"
    }
   ],
   "source": [
    "complete.head()"
   ]
  },
  {
   "cell_type": "code",
   "execution_count": 3,
   "metadata": {},
   "outputs": [],
   "source": [
    "# translate column names to English\n",
    "complete['Province_Lean'] = complete['จังหวัด'].str.removeprefix(\"จังหวัด\")"
   ]
  },
  {
   "cell_type": "code",
   "execution_count": 4,
   "metadata": {},
   "outputs": [
    {
     "data": {
      "text/plain": [
       "รหัสจังหวัด                         int64\n",
       "จังหวัด                            object\n",
       "รหัสสำนักทะเบียน                    int64\n",
       "สำนักทะเบียน                       object\n",
       "รหัสตำบล                            int64\n",
       "ตำบล                               object\n",
       "เขตเลือกตั้ง                        int64\n",
       "หน่วยเลือกตั้ง                      int64\n",
       "สถานที่เลือกตั้ง                   object\n",
       "อธิบายเพิ่มเติมสถานที่เลือกตั้ง    object\n",
       "NER                                object\n",
       "Province_Lean                      object\n",
       "dtype: object"
      ]
     },
     "execution_count": 4,
     "metadata": {},
     "output_type": "execute_result"
    }
   ],
   "source": [
    "complete.dtypes"
   ]
  },
  {
   "cell_type": "code",
   "execution_count": 10,
   "metadata": {},
   "outputs": [
    {
     "data": {
      "text/plain": [
       "division_number      object\n",
       "id                    int64\n",
       "is_verify              bool\n",
       "total_volunteers    float64\n",
       "unit_info            object\n",
       "unit_number           int64\n",
       "Province             object\n",
       "Amphur               object\n",
       "Tambon               object\n",
       "dtype: object"
      ]
     },
     "execution_count": 10,
     "metadata": {},
     "output_type": "execute_result"
    }
   ],
   "source": [
    "vote62.dtypes"
   ]
  },
  {
   "cell_type": "code",
   "execution_count": 5,
   "metadata": {},
   "outputs": [],
   "source": [
    "vote62['division_number'] = vote62['division_number'].astype('int64')"
   ]
  },
  {
   "cell_type": "code",
   "execution_count": 6,
   "metadata": {},
   "outputs": [],
   "source": [
    "# join the two dataframes\n",
    "df = pd.merge(vote62, complete, how=\"inner\", left_on=[\"Province\", \"division_number\", \"Tambon\", \"unit_number\"], right_on=[\"Province_Lean\", \"เขตเลือกตั้ง\", \"ตำบล\",\"หน่วยเลือกตั้ง\"])"
   ]
  },
  {
   "cell_type": "code",
   "execution_count": 7,
   "metadata": {},
   "outputs": [],
   "source": [
    "m = df.Tambon == df['ตำบล']"
   ]
  },
  {
   "cell_type": "code",
   "execution_count": 9,
   "metadata": {},
   "outputs": [],
   "source": [
    "from editdistpy import levenshtein"
   ]
  },
  {
   "cell_type": "code",
   "execution_count": 10,
   "metadata": {},
   "outputs": [],
   "source": [
    "# compute edit distance between สถานที่เลือกตั้ง and unit_info \n",
    "def compute_edit(row):\n",
    "    return levenshtein.distance(row['สถานที่เลือกตั้ง'], row['unit_info'], max_distance=50)\n",
    "\n",
    "df['edit_distance'] = df.apply(compute_edit, axis=1)"
   ]
  },
  {
   "cell_type": "code",
   "execution_count": 11,
   "metadata": {},
   "outputs": [],
   "source": [
    "import numpy as np"
   ]
  },
  {
   "cell_type": "code",
   "execution_count": 12,
   "metadata": {},
   "outputs": [],
   "source": [
    "df['relative_edit_distance'] = df['edit_distance'] / df['unit_info'].str.len()"
   ]
  },
  {
   "cell_type": "code",
   "execution_count": 37,
   "metadata": {},
   "outputs": [
    {
     "data": {
      "text/plain": [
       "<Axes: >"
      ]
     },
     "execution_count": 37,
     "metadata": {},
     "output_type": "execute_result"
    },
    {
     "data": {
      "image/png": "[encoded data removed]",
      "text/plain": [
       "<Figure size 640x480 with 1 Axes>"
      ]
     },
     "metadata": {},
     "output_type": "display_data"
    }
   ],
   "source": [
    "df.edit_distance.hist()"
   ]
  },
  {
   "cell_type": "code",
   "execution_count": 41,
   "metadata": {},
   "outputs": [
    {
     "data": {
      "text/plain": [
       "<Axes: >"
      ]
     },
     "execution_count": 41,
     "metadata": {},
     "output_type": "execute_result"
    },
    {
     "data": {
      "image/png": "[encoded data removed]",
      "text/plain": [
       "<Figure size 640x480 with 1 Axes>"
      ]
     },
     "metadata": {},
     "output_type": "display_data"
    }
   ],
   "source": [
    "from numpy import log\n",
    "\n",
    "\n",
    "df.relative_edit_distance.hist(log=True)"
   ]
  },
  {
   "cell_type": "code",
   "execution_count": 13,
   "metadata": {},
   "outputs": [],
   "source": [
    "import pylcs"
   ]
  },
  {
   "cell_type": "code",
   "execution_count": 14,
   "metadata": {},
   "outputs": [],
   "source": [
    "def compute_lcs(row):\n",
    "    return pylcs.lcs(row['สถานที่เลือกตั้ง'], row['unit_info'])\n",
    "\n",
    "df['lcs'] = df.apply(compute_lcs, axis=1)"
   ]
  },
  {
   "cell_type": "code",
   "execution_count": 16,
   "metadata": {},
   "outputs": [],
   "source": [
    "df['relative_lcs'] = df['lcs'] / df['unit_info'].str.len()"
   ]
  },
  {
   "cell_type": "code",
   "execution_count": 18,
   "metadata": {},
   "outputs": [
    {
     "data": {
      "text/plain": [
       "<Axes: >"
      ]
     },
     "execution_count": 18,
     "metadata": {},
     "output_type": "execute_result"
    },
    {
     "data": {
      "image/png": "[encoded data removed]",
      "text/plain": [
       "<Figure size 640x480 with 1 Axes>"
      ]
     },
     "metadata": {},
     "output_type": "display_data"
    }
   ],
   "source": [
    "df.relative_lcs.hist()"
   ]
  },
  {
   "cell_type": "code",
   "execution_count": 19,
   "metadata": {},
   "outputs": [
    {
     "data": {
      "text/plain": [
       "count    25873.000000\n",
       "mean         0.666377\n",
       "std          0.320505\n",
       "min          0.000000\n",
       "25%          0.361111\n",
       "50%          0.700000\n",
       "75%          1.000000\n",
       "max          1.000000\n",
       "Name: relative_lcs, dtype: float64"
      ]
     },
     "execution_count": 19,
     "metadata": {},
     "output_type": "execute_result"
    }
   ],
   "source": [
    "df['relative_lcs'].describe()"
   ]
  },
  {
   "cell_type": "code",
   "execution_count": 24,
   "metadata": {},
   "outputs": [
    {
     "data": {
      "text/plain": [
       "count    25873.000000\n",
       "mean         0.666377\n",
       "std          0.320505\n",
       "min          0.000000\n",
       "0%           0.000000\n",
       "5%           0.170213\n",
       "10%          0.227273\n",
       "15%          0.275862\n",
       "20%          0.318182\n",
       "25%          0.361111\n",
       "30%          0.402439\n",
       "35%          0.446429\n",
       "40%          0.505882\n",
       "45%          0.583333\n",
       "50%          0.700000\n",
       "55%          0.840580\n",
       "60%          0.956522\n",
       "65%          0.975610\n",
       "70%          1.000000\n",
       "75%          1.000000\n",
       "80%          1.000000\n",
       "85%          1.000000\n",
       "90%          1.000000\n",
       "95%          1.000000\n",
       "max          1.000000\n",
       "Name: relative_lcs, dtype: float64"
      ]
     },
     "execution_count": 24,
     "metadata": {},
     "output_type": "execute_result"
    }
   ],
   "source": [
    "# percentile table\n",
    "df['relative_lcs'].describe(percentiles=list(map(lambda x: x/100,range(0, 100, 5))))"
   ]
  },
  {
   "cell_type": "code",
   "execution_count": null,
   "metadata": {},
   "outputs": [],
   "source": [
    "df.to"
   ]
  }
 ],
 "metadata": {
  "kernelspec": {
   "display_name": "ballot",
   "language": "python",
   "name": "python3"
  },
  "language_info": {
   "codemirror_mode": {
    "name": "ipython",
    "version": 3
   },
   "file_extension": ".py",
   "mimetype": "text/x-python",
   "name": "python",
   "nbconvert_exporter": "python",
   "pygments_lexer": "ipython3",
   "version": "3.10.10"
  },
  "orig_nbformat": 4
 },
 "nbformat": 4,
 "nbformat_minor": 2
}
