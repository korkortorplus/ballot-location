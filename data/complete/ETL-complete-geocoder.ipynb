{
 "cells": [
  {
   "cell_type": "code",
   "execution_count": 1,
   "metadata": {},
   "outputs": [
    {
     "data": {
      "text/html": [
       "<div>\n",
       "<style scoped>\n",
       "    .dataframe tbody tr th:only-of-type {\n",
       "        vertical-align: middle;\n",
       "    }\n",
       "\n",
       "    .dataframe tbody tr th {\n",
       "        vertical-align: top;\n",
       "    }\n",
       "\n",
       "    .dataframe thead th {\n",
       "        text-align: right;\n",
       "    }\n",
       "</style>\n",
       "<table border=\"1\" class=\"dataframe\">\n",
       "  <thead>\n",
       "    <tr style=\"text-align: right;\">\n",
       "      <th></th>\n",
       "      <th>รหัสจังหวัด</th>\n",
       "      <th>จังหวัด</th>\n",
       "      <th>รหัสสำนักทะเบียน</th>\n",
       "      <th>สำนักทะเบียน</th>\n",
       "      <th>รหัสตำบล</th>\n",
       "      <th>ตำบล</th>\n",
       "      <th>เขตเลือกตั้ง</th>\n",
       "      <th>หน่วยเลือกตั้ง</th>\n",
       "      <th>สถานที่เลือกตั้ง</th>\n",
       "      <th>อธิบายเพิ่มเติมสถานที่เลือกตั้ง</th>\n",
       "    </tr>\n",
       "  </thead>\n",
       "  <tbody>\n",
       "    <tr>\n",
       "      <th>0</th>\n",
       "      <td>10</td>\n",
       "      <td>กรุงเทพมหานคร</td>\n",
       "      <td>1001</td>\n",
       "      <td>ท้องถิ่นเขตพระนคร</td>\n",
       "      <td>100101</td>\n",
       "      <td>พระบรมมหาราชวัง</td>\n",
       "      <td>1</td>\n",
       "      <td>1</td>\n",
       "      <td>หอประชุม มหาวิทยาลัยศิลปากร ถนนมหาราช</td>\n",
       "      <td></td>\n",
       "    </tr>\n",
       "    <tr>\n",
       "      <th>1</th>\n",
       "      <td>10</td>\n",
       "      <td>กรุงเทพมหานคร</td>\n",
       "      <td>1001</td>\n",
       "      <td>ท้องถิ่นเขตพระนคร</td>\n",
       "      <td>100101</td>\n",
       "      <td>พระบรมมหาราชวัง</td>\n",
       "      <td>1</td>\n",
       "      <td>2</td>\n",
       "      <td>โรงเรียนวัดมหาธาตุ ถนนพระจันทร์</td>\n",
       "      <td></td>\n",
       "    </tr>\n",
       "    <tr>\n",
       "      <th>2</th>\n",
       "      <td>10</td>\n",
       "      <td>กรุงเทพมหานคร</td>\n",
       "      <td>1001</td>\n",
       "      <td>ท้องถิ่นเขตพระนคร</td>\n",
       "      <td>100101</td>\n",
       "      <td>พระบรมมหาราชวัง</td>\n",
       "      <td>1</td>\n",
       "      <td>3</td>\n",
       "      <td>ศาลาหน้าอาคารวาสนะประทานวิทยาสิทธิ์ 1 โรงเรียน...</td>\n",
       "      <td>ถนนสนามไชย</td>\n",
       "    </tr>\n",
       "    <tr>\n",
       "      <th>3</th>\n",
       "      <td>10</td>\n",
       "      <td>กรุงเทพมหานคร</td>\n",
       "      <td>1001</td>\n",
       "      <td>ท้องถิ่นเขตพระนคร</td>\n",
       "      <td>100101</td>\n",
       "      <td>พระบรมมหาราชวัง</td>\n",
       "      <td>1</td>\n",
       "      <td>4</td>\n",
       "      <td>โรงเรียนวัดพระเชตุพน ถนนมหาราช</td>\n",
       "      <td></td>\n",
       "    </tr>\n",
       "    <tr>\n",
       "      <th>4</th>\n",
       "      <td>10</td>\n",
       "      <td>กรุงเทพมหานคร</td>\n",
       "      <td>1001</td>\n",
       "      <td>ท้องถิ่นเขตพระนคร</td>\n",
       "      <td>100102</td>\n",
       "      <td>วังบูรพาภิรมย์</td>\n",
       "      <td>1</td>\n",
       "      <td>1</td>\n",
       "      <td>ตึกสามัคยาจารย์ โรงเรียนสวนกุหลาบวิทยาลัย ถนนต...</td>\n",
       "      <td></td>\n",
       "    </tr>\n",
       "  </tbody>\n",
       "</table>\n",
       "</div>"
      ],
      "text/plain": [
       "   รหัสจังหวัด        จังหวัด  รหัสสำนักทะเบียน       สำนักทะเบียน  รหัสตำบล   \n",
       "0           10  กรุงเทพมหานคร              1001  ท้องถิ่นเขตพระนคร    100101  \\\n",
       "1           10  กรุงเทพมหานคร              1001  ท้องถิ่นเขตพระนคร    100101   \n",
       "2           10  กรุงเทพมหานคร              1001  ท้องถิ่นเขตพระนคร    100101   \n",
       "3           10  กรุงเทพมหานคร              1001  ท้องถิ่นเขตพระนคร    100101   \n",
       "4           10  กรุงเทพมหานคร              1001  ท้องถิ่นเขตพระนคร    100102   \n",
       "\n",
       "              ตำบล  เขตเลือกตั้ง  หน่วยเลือกตั้ง   \n",
       "0  พระบรมมหาราชวัง             1               1  \\\n",
       "1  พระบรมมหาราชวัง             1               2   \n",
       "2  พระบรมมหาราชวัง             1               3   \n",
       "3  พระบรมมหาราชวัง             1               4   \n",
       "4   วังบูรพาภิรมย์             1               1   \n",
       "\n",
       "                                    สถานที่เลือกตั้ง   \n",
       "0              หอประชุม มหาวิทยาลัยศิลปากร ถนนมหาราช  \\\n",
       "1                    โรงเรียนวัดมหาธาตุ ถนนพระจันทร์   \n",
       "2  ศาลาหน้าอาคารวาสนะประทานวิทยาสิทธิ์ 1 โรงเรียน...   \n",
       "3                     โรงเรียนวัดพระเชตุพน ถนนมหาราช   \n",
       "4  ตึกสามัคยาจารย์ โรงเรียนสวนกุหลาบวิทยาลัย ถนนต...   \n",
       "\n",
       "  อธิบายเพิ่มเติมสถานที่เลือกตั้ง  \n",
       "0                                  \n",
       "1                                  \n",
       "2                      ถนนสนามไชย  \n",
       "3                                  \n",
       "4                                  "
      ]
     },
     "execution_count": 1,
     "metadata": {},
     "output_type": "execute_result"
    }
   ],
   "source": [
    "import pandas as pd\n",
    "\n",
    "def clean_data(df):\n",
    "    # Split text using string '#' in column: 'สถานที่เลือกตั้ง'\n",
    "    df_split = df['สถานที่เลือกตั้ง'].str.split(pat='#', expand=True).add_prefix('สถานที่เลือกตั้ง_')\n",
    "    df = pd.concat([df.iloc[:, :9], df_split, df.iloc[:, 9:]], axis=1)\n",
    "    df = df.drop(columns=['สถานที่เลือกตั้ง'])\n",
    "    # Rename column 'สถานที่เลือกตั้ง_0' to 'สถานที่เลือกตั้ง'\n",
    "    df = df.rename(columns={'สถานที่เลือกตั้ง_0': 'สถานที่เลือกตั้ง'})\n",
    "    # Rename column 'สถานที่เลือกตั้ง_1' to 'อธิบายเพิ่มเติมสถานที่เลือกตั้ง'\n",
    "    df = df.rename(columns={'สถานที่เลือกตั้ง_1': 'อธิบายเพิ่มเติมสถานที่เลือกตั้ง'})\n",
    "    return df\n",
    "\n",
    "# Loaded variable 'df' from URI: /home/din/UnixDevs/ballot-location/data/ballot_complete.csv\n",
    "df = pd.read_csv(r\"/home/din/UnixDevs/ballot-location/data/ballot_complete.csv\", engine='pyarrow')\n",
    "\n",
    "df_clean = clean_data(df.copy())\n",
    "df_clean.head()"
   ]
  },
  {
   "cell_type": "code",
   "execution_count": 2,
   "metadata": {},
   "outputs": [],
   "source": [
    "from geopy.geocoders import Nominatim"
   ]
  },
  {
   "cell_type": "code",
   "execution_count": 4,
   "metadata": {},
   "outputs": [],
   "source": [
    "service = Nominatim(domain=\"nominatim.vallarismaps.com\", scheme=\"https\")"
   ]
  },
  {
   "cell_type": "code",
   "execution_count": 9,
   "metadata": {},
   "outputs": [],
   "source": [
    "service.geocode(\"อาคารอเนกประสงค์โรงเรียนวัดคอตันคลอง 27 หมู่ 6\", exactly_one=False, limit=3)"
   ]
  },
  {
   "cell_type": "code",
   "execution_count": 11,
   "metadata": {},
   "outputs": [],
   "source": [
    "service.geocode(\"ศาลาวัดหนองโสน\", exactly_one=False, limit=3)"
   ]
  },
  {
   "cell_type": "code",
   "execution_count": 10,
   "metadata": {},
   "outputs": [
    {
     "data": {
      "text/plain": [
       "[Location(วัดหนองโสน, พช.2041, บ้านหนองโสน, บ้านหัวโตก, เฉลียงทอง, จังหวัดเพชรบูรณ์, 67220, ประเทศไทย, (16.122353099999998, 101.05782347158663, 0.0)),\n",
       " Location(วัดหนองโสน, 3006, บ้านโข้ง, จังหวัดสุพรรณบุรี, ประเทศไทย, (14.5598217, 99.94023366596355, 0.0))]"
      ]
     },
     "execution_count": 10,
     "metadata": {},
     "output_type": "execute_result"
    }
   ],
   "source": [
    "service.geocode(\"วัดหนองโสน\", exactly_one=False, limit=3)"
   ]
  },
  {
   "cell_type": "code",
   "execution_count": 15,
   "metadata": {},
   "outputs": [],
   "source": [
    "service.geocode(\"วัดหนองโสน province=จังหวัดพระนครศรีอยุธยา\", exactly_one=False, limit=3)"
   ]
  },
  {
   "cell_type": "code",
   "execution_count": null,
   "metadata": {},
   "outputs": [],
   "source": [
    "service.geocode(\"วัดหนองโสน province=จังหวัดพระนครศรีอยุธยา\", exactly_one=False, limit=3)"
   ]
  },
  {
   "cell_type": "code",
   "execution_count": 25,
   "metadata": {},
   "outputs": [
    {
     "data": {
      "text/plain": [
       "Location(วัดหนองโสน, พช.2041, บ้านหนองโสน, บ้านหัวโตก, เฉลียงทอง, จังหวัดเพชรบูรณ์, 67220, ประเทศไทย, (16.122353099999998, 101.05782347158663, 0.0))"
      ]
     },
     "execution_count": 25,
     "metadata": {},
     "output_type": "execute_result"
    }
   ],
   "source": [
    "x = service.geocode(\"วัดหนองโสน province=จังหวัดเพชรบูรณ์\")\n",
    "x"
   ]
  },
  {
   "cell_type": "code",
   "execution_count": null,
   "metadata": {},
   "outputs": [],
   "source": [
    "x."
   ]
  },
  {
   "cell_type": "code",
   "execution_count": 23,
   "metadata": {},
   "outputs": [],
   "source": [
    "service.geocode(\"วัดหนองโสน place:municipality=เฉลียงทอง province=จังหวัดเพชรบูรณ์\", exactly_one=False, limit=3)\n",
    "service.geocode(\"วัดหนองโสน municipality=เฉลียงทอง province=จังหวัดเพชรบูรณ์\", exactly_one=False, limit=3)"
   ]
  },
  {
   "cell_type": "code",
   "execution_count": 26,
   "metadata": {},
   "outputs": [],
   "source": [
    "geocoded = df_clean['สถานที่เลือกตั้ง'].apply(lambda x: service.geocode(x))"
   ]
  },
  {
   "cell_type": "code",
   "execution_count": null,
   "metadata": {},
   "outputs": [],
   "source": []
  }
 ],
 "metadata": {
  "kernelspec": {
   "display_name": "ballot",
   "language": "python",
   "name": "python3"
  },
  "language_info": {
   "codemirror_mode": {
    "name": "ipython",
    "version": 3
   },
   "file_extension": ".py",
   "mimetype": "text/x-python",
   "name": "python",
   "nbconvert_exporter": "python",
   "pygments_lexer": "ipython3",
   "version": "3.10.10"
  },
  "orig_nbformat": 4
 },
 "nbformat": 4,
 "nbformat_minor": 2
}
