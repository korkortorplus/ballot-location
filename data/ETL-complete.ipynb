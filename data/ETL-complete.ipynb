{
 "cells": [
  {
   "cell_type": "code",
   "execution_count": null,
   "metadata": {},
   "outputs": [],
   "source": [
    "import pandas as pd\n",
    "\n",
    "def clean_data(df):\n",
    "    # Split text using string '#' in column: 'สถานที่เลือกตั้ง'\n",
    "    df_split = df['สถานที่เลือกตั้ง'].str.split(pat='#', expand=True).add_prefix('สถานที่เลือกตั้ง_')\n",
    "    df = pd.concat([df.iloc[:, :9], df_split, df.iloc[:, 9:]], axis=1)\n",
    "    df = df.drop(columns=['สถานที่เลือกตั้ง'])\n",
    "    # Rename column 'สถานที่เลือกตั้ง_0' to 'สถานที่เลือกตั้ง'\n",
    "    df = df.rename(columns={'สถานที่เลือกตั้ง_0': 'สถานที่เลือกตั้ง'})\n",
    "    # Rename column 'สถานที่เลือกตั้ง_1' to 'อธิบายเพิ่มเติมสถานที่เลือกตั้ง'\n",
    "    df = df.rename(columns={'สถานที่เลือกตั้ง_1': 'อธิบายเพิ่มเติมสถานที่เลือกตั้ง'})\n",
    "    return df\n",
    "\n",
    "# Loaded variable 'df' from URI: /home/din/UnixDevs/ballot-location/data/ballot_complete.csv\n",
    "df = pd.read_csv(r\"/home/din/UnixDevs/ballot-location/data/ballot_complete.csv\", engine='pyarrow')\n",
    "\n",
    "df_clean = clean_data(df.copy())\n",
    "df_clean.head()"
   ]
  }
 ],
 "metadata": {
  "kernelspec": {
   "display_name": "ballot",
   "language": "python",
   "name": "python3"
  },
  "language_info": {
   "name": "python",
   "version": "3.10.10"
  },
  "orig_nbformat": 4
 },
 "nbformat": 4,
 "nbformat_minor": 2
}
