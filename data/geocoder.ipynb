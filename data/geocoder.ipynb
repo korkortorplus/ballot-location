{
 "cells": [
  {
   "cell_type": "code",
   "execution_count": 2,
   "metadata": {},
   "outputs": [
    {
     "name": "stdout",
     "output_type": "stream",
     "text": [
      "The dotenv extension is already loaded. To reload it, use:\n",
      "  %reload_ext dotenv\n"
     ]
    }
   ],
   "source": [
    "%load_ext dotenv\n",
    "%dotenv\n"
   ]
  },
  {
   "cell_type": "code",
   "execution_count": 2,
   "metadata": {},
   "outputs": [],
   "source": [
    "\n",
    "from geopy.geocoders import GoogleV3\n",
    "import pandas as pd\n",
    "import os"
   ]
  },
  {
   "cell_type": "code",
   "execution_count": 3,
   "metadata": {},
   "outputs": [],
   "source": [
    "apikey = os.getenv(\"GMAP_API_KEY\")\n",
    "assert apikey is not None, \"Please set GMAP_API_KEY in .env file\""
   ]
  },
  {
   "cell_type": "code",
   "execution_count": 4,
   "metadata": {},
   "outputs": [],
   "source": [
    "geocoder = GoogleV3(api_key=apikey)"
   ]
  },
  {
   "cell_type": "code",
   "execution_count": 11,
   "metadata": {},
   "outputs": [
    {
     "data": {
      "text/plain": [
       "Location(Kanlapaphruek Rd, กรุงเทพมหานคร ประเทศไทย, (13.6967066, 100.4392854, 0.0))"
      ]
     },
     "execution_count": 11,
     "metadata": {},
     "output_type": "execute_result"
    }
   ],
   "source": [
    "component = [('administrative_area_level_1', 'กรุงเทพมหานคร'), ('administrative_area_level_2', 'บางแค'),('administrative_area_level_3', 'บางแค'), ('country', 'TH')]\n",
    "geocoder.geocode(\"อาคารด้านหลังร้านก๋วยเตี๋ยว ป.ประทีป ถนนกัลปพฤกษ์\", language=\"th\", components=component)"
   ]
  },
  {
   "cell_type": "code",
   "execution_count": 7,
   "metadata": {},
   "outputs": [],
   "source": [
    "import googlemaps\n",
    "from datetime import datetime"
   ]
  },
  {
   "cell_type": "code",
   "execution_count": 8,
   "metadata": {},
   "outputs": [],
   "source": [
    "gmaps = googlemaps.Client(key=apikey)"
   ]
  },
  {
   "cell_type": "code",
   "execution_count": 16,
   "metadata": {},
   "outputs": [],
   "source": [
    "#component as dict\n",
    "components = {'administrative_area_level_1': 'กรุงเทพมหานคร', 'sublocality_level_1': 'บางแค', 'sublocality_level_2': 'บางแค', 'country': 'TH'}"
   ]
  },
  {
   "cell_type": "code",
   "execution_count": 17,
   "metadata": {},
   "outputs": [
    {
     "data": {
      "text/plain": [
       "[{'address_components': [{'long_name': 'Kanlapaphruek Road',\n",
       "    'short_name': 'Kanlapaphruek Rd',\n",
       "    'types': ['route']},\n",
       "   {'long_name': 'กรุงเทพมหานคร',\n",
       "    'short_name': 'กรุงเทพมหานคร',\n",
       "    'types': ['administrative_area_level_1', 'political']},\n",
       "   {'long_name': 'ประเทศไทย',\n",
       "    'short_name': 'TH',\n",
       "    'types': ['country', 'political']}],\n",
       "  'formatted_address': 'Kanlapaphruek Rd, กรุงเทพมหานคร ประเทศไทย',\n",
       "  'geometry': {'bounds': {'northeast': {'lat': 13.7149496, 'lng': 100.464947},\n",
       "    'southwest': {'lat': 13.6818491, 'lng': 100.4087543}},\n",
       "   'location': {'lat': 13.6967066, 'lng': 100.4392854},\n",
       "   'location_type': 'GEOMETRIC_CENTER',\n",
       "   'viewport': {'northeast': {'lat': 13.7149496, 'lng': 100.464947},\n",
       "    'southwest': {'lat': 13.6818491, 'lng': 100.4087543}}},\n",
       "  'partial_match': True,\n",
       "  'place_id': 'ChIJS5Zw1v2X4jAR78KWhbF_UdM',\n",
       "  'types': ['route']}]"
      ]
     },
     "execution_count": 17,
     "metadata": {},
     "output_type": "execute_result"
    }
   ],
   "source": [
    "geocode_result = gmaps.geocode(\"อาคารด้านหลังร้านก๋วยเตี๋ยว ป.ประทีป ถนนกัลปพฤกษ์\", language=\"th\", components=components)\n",
    "geocode_result"
   ]
  },
  {
   "cell_type": "code",
   "execution_count": 18,
   "metadata": {},
   "outputs": [
    {
     "data": {
      "text/plain": [
       "[{'address_components': [{'long_name': '1508',\n",
       "    'short_name': '1508',\n",
       "    'types': ['street_number']},\n",
       "   {'long_name': 'ซอย บางแค 14',\n",
       "    'short_name': 'ซ. บางแค 14',\n",
       "    'types': ['route']},\n",
       "   {'long_name': 'แขวงบางแค',\n",
       "    'short_name': 'แขวงบางแค',\n",
       "    'types': ['political', 'sublocality', 'sublocality_level_2']},\n",
       "   {'long_name': 'เขตบางแค',\n",
       "    'short_name': 'เขตบางแค',\n",
       "    'types': ['political', 'sublocality', 'sublocality_level_1']},\n",
       "   {'long_name': 'กรุงเทพมหานคร',\n",
       "    'short_name': 'กรุงเทพมหานคร',\n",
       "    'types': ['administrative_area_level_1', 'political']},\n",
       "   {'long_name': 'ประเทศไทย',\n",
       "    'short_name': 'TH',\n",
       "    'types': ['country', 'political']},\n",
       "   {'long_name': '10160', 'short_name': '10160', 'types': ['postal_code']}],\n",
       "  'formatted_address': '1508 ซ. บางแค 14 แขวงบางแค เขตบางแค กรุงเทพมหานคร 10160 ประเทศไทย',\n",
       "  'geometry': {'location': {'lat': 13.690098, 'lng': 100.417498},\n",
       "   'location_type': 'ROOFTOP',\n",
       "   'viewport': {'northeast': {'lat': 13.6914670802915,\n",
       "     'lng': 100.4189332802915},\n",
       "    'southwest': {'lat': 13.6887691197085, 'lng': 100.4162353197085}}},\n",
       "  'partial_match': True,\n",
       "  'place_id': 'ChIJqcKYy9mX4jAR9C5ekcZULPs',\n",
       "  'plus_code': {'compound_code': 'MCR8+2X กรุงเทพมหานคร ประเทศไทย',\n",
       "   'global_code': '7P52MCR8+2X'},\n",
       "  'types': ['establishment', 'point_of_interest', 'school']}]"
      ]
     },
     "execution_count": 18,
     "metadata": {},
     "output_type": "execute_result"
    }
   ],
   "source": [
    "#component as dict\n",
    "components = {'administrative_area_level_1': 'กรุงเทพมหานคร', 'sublocality_level_1': 'บางแค', 'sublocality_level_2': 'บางแค', 'country': 'TH'}\n",
    "geocode_result = gmaps.geocode(\"โรงเรียนคลองหนองใหญ่\", language=\"th\", components=components)\n",
    "geocode_result"
   ]
  },
  {
   "cell_type": "code",
   "execution_count": 19,
   "metadata": {},
   "outputs": [
    {
     "data": {
      "text/plain": [
       "[{'address_components': [{'long_name': '1508',\n",
       "    'short_name': '1508',\n",
       "    'types': ['street_number']},\n",
       "   {'long_name': 'ซอย บางแค 14',\n",
       "    'short_name': 'ซ. บางแค 14',\n",
       "    'types': ['route']},\n",
       "   {'long_name': 'แขวงบางแค',\n",
       "    'short_name': 'แขวงบางแค',\n",
       "    'types': ['political', 'sublocality', 'sublocality_level_2']},\n",
       "   {'long_name': 'เขตบางแค',\n",
       "    'short_name': 'เขตบางแค',\n",
       "    'types': ['political', 'sublocality', 'sublocality_level_1']},\n",
       "   {'long_name': 'กรุงเทพมหานคร',\n",
       "    'short_name': 'กรุงเทพมหานคร',\n",
       "    'types': ['administrative_area_level_1', 'political']},\n",
       "   {'long_name': 'ประเทศไทย',\n",
       "    'short_name': 'TH',\n",
       "    'types': ['country', 'political']},\n",
       "   {'long_name': '10160', 'short_name': '10160', 'types': ['postal_code']}],\n",
       "  'formatted_address': '1508 ซ. บางแค 14 แขวงบางแค เขตบางแค กรุงเทพมหานคร 10160 ประเทศไทย',\n",
       "  'geometry': {'location': {'lat': 13.690098, 'lng': 100.417498},\n",
       "   'location_type': 'ROOFTOP',\n",
       "   'viewport': {'northeast': {'lat': 13.6914670802915,\n",
       "     'lng': 100.4189332802915},\n",
       "    'southwest': {'lat': 13.6887691197085, 'lng': 100.4162353197085}}},\n",
       "  'partial_match': True,\n",
       "  'place_id': 'ChIJqcKYy9mX4jAR9C5ekcZULPs',\n",
       "  'plus_code': {'compound_code': 'MCR8+2X กรุงเทพมหานคร ประเทศไทย',\n",
       "   'global_code': '7P52MCR8+2X'},\n",
       "  'types': ['establishment', 'point_of_interest', 'school']}]"
      ]
     },
     "execution_count": 19,
     "metadata": {},
     "output_type": "execute_result"
    }
   ],
   "source": [
    "geocode_result = gmaps.geocode(\"โรงเรียนคลองหนองใหญ่\", language=\"th\")\n",
    "geocode_result"
   ]
  },
  {
   "cell_type": "code",
   "execution_count": 20,
   "metadata": {},
   "outputs": [
    {
     "data": {
      "text/plain": [
       "[{'address_components': [{'long_name': '209',\n",
       "    'short_name': '209',\n",
       "    'types': ['subpremise']},\n",
       "   {'long_name': '1', 'short_name': '1', 'types': ['street_number']},\n",
       "   {'long_name': 'ถนน พุทธมณฑล สาย 2',\n",
       "    'short_name': 'ถ. พุทธมณฑล สาย 2',\n",
       "    'types': ['route']},\n",
       "   {'long_name': 'แขวงบางแคเหนือ',\n",
       "    'short_name': 'แขวงบางแคเหนือ',\n",
       "    'types': ['political', 'sublocality', 'sublocality_level_2']},\n",
       "   {'long_name': 'เขตบางแค',\n",
       "    'short_name': 'เขตบางแค',\n",
       "    'types': ['political', 'sublocality', 'sublocality_level_1']},\n",
       "   {'long_name': 'กรุงเทพมหานคร',\n",
       "    'short_name': 'กรุงเทพมหานคร',\n",
       "    'types': ['administrative_area_level_1', 'political']},\n",
       "   {'long_name': 'ประเทศไทย',\n",
       "    'short_name': 'TH',\n",
       "    'types': ['country', 'political']},\n",
       "   {'long_name': '10160', 'short_name': '10160', 'types': ['postal_code']}],\n",
       "  'formatted_address': '209, 1 ถ. พุทธมณฑล สาย 2 แขวงบางแคเหนือ เขตบางแค กรุงเทพมหานคร 10160 ประเทศไทย',\n",
       "  'geometry': {'location': {'lat': 13.7182887, 'lng': 100.395381},\n",
       "   'location_type': 'ROOFTOP',\n",
       "   'viewport': {'northeast': {'lat': 13.7196240802915,\n",
       "     'lng': 100.3967272802915},\n",
       "    'southwest': {'lat': 13.7169261197085, 'lng': 100.3940293197085}}},\n",
       "  'partial_match': True,\n",
       "  'place_id': 'ChIJETtXRbWX4jAR8iWn5eSy0kk',\n",
       "  'plus_code': {'compound_code': 'P99W+85 กรุงเทพมหานคร ประเทศไทย',\n",
       "   'global_code': '7P52P99W+85'},\n",
       "  'types': ['car_repair',\n",
       "   'car_wash',\n",
       "   'establishment',\n",
       "   'gas_station',\n",
       "   'point_of_interest']}]"
      ]
     },
     "execution_count": 20,
     "metadata": {},
     "output_type": "execute_result"
    }
   ],
   "source": [
    "#component as dict\n",
    "components = {'administrative_area_level_1': 'กรุงเทพมหานคร', 'sublocality_level_1': 'บางแค', 'sublocality_level_2': 'บางแค', 'country': 'TH'}\n",
    "geocode_result = gmaps.geocode(\"เต็นท์เยื้องสถานีบริการน้ำมันเชลล์ ถนนพุทธมณฑลสาย 2\", language=\"th\", components=components)\n",
    "geocode_result"
   ]
  },
  {
   "cell_type": "code",
   "execution_count": 22,
   "metadata": {},
   "outputs": [],
   "source": [
    "# create file cache\n",
    "import joblib\n",
    "\n",
    "cache=joblib.Memory(\".cache\", verbose=0)\n",
    "\n",
    "\n",
    "@cache.cache\n",
    "def geocode(street_address, subdistrict, district, province, country=\"TH\"):\n",
    "    components = {'administrative_area_level_1': province, 'sublocality_level_1': district, 'sublocality_level_2': subdistrict, 'country': country}\n",
    "    return gmaps.geocode(street_address, language=\"th\", components=components)\n",
    "\n",
    "\n"
   ]
  },
  {
   "cell_type": "code",
   "execution_count": 24,
   "metadata": {},
   "outputs": [
    {
     "data": {
      "text/plain": [
       "[{'address_components': [{'long_name': '132',\n",
       "    'short_name': '132',\n",
       "    'types': ['street_number']},\n",
       "   {'long_name': 'ซอย ปุณณวิถี',\n",
       "    'short_name': 'ซอย ปุณณวิถี',\n",
       "    'types': ['route']},\n",
       "   {'long_name': 'แขวงบางจาก',\n",
       "    'short_name': 'แขวงบางจาก',\n",
       "    'types': ['political', 'sublocality', 'sublocality_level_2']},\n",
       "   {'long_name': 'เขตพระโขนง',\n",
       "    'short_name': 'เขตพระโขนง',\n",
       "    'types': ['political', 'sublocality', 'sublocality_level_1']},\n",
       "   {'long_name': 'กรุงเทพมหานคร',\n",
       "    'short_name': 'กรุงเทพมหานคร',\n",
       "    'types': ['administrative_area_level_1', 'political']},\n",
       "   {'long_name': 'ประเทศไทย',\n",
       "    'short_name': 'TH',\n",
       "    'types': ['country', 'political']},\n",
       "   {'long_name': '10260', 'short_name': '10260', 'types': ['postal_code']}],\n",
       "  'formatted_address': '132 ซอย ปุณณวิถี แขวงบางจาก เขตพระโขนง กรุงเทพมหานคร 10260 ประเทศไทย',\n",
       "  'geometry': {'location': {'lat': 13.6885237, 'lng': 100.6154805},\n",
       "   'location_type': 'ROOFTOP',\n",
       "   'viewport': {'northeast': {'lat': 13.6897808302915,\n",
       "     'lng': 100.6168606802915},\n",
       "    'southwest': {'lat': 13.6870828697085, 'lng': 100.6141627197085}}},\n",
       "  'partial_match': True,\n",
       "  'place_id': 'ChIJ72Eo2gGg4jARbCgln0qpYYc',\n",
       "  'plus_code': {'compound_code': 'MJQ8+C5 กรุงเทพมหานคร ประเทศไทย',\n",
       "   'global_code': '7P52MJQ8+C5'},\n",
       "  'types': ['establishment', 'point_of_interest', 'school']}]"
      ]
     },
     "execution_count": 24,
     "metadata": {},
     "output_type": "execute_result"
    }
   ],
   "source": [
    "geocode(street_address=\"โรงเรียนวัดธรรมมงคล (หลวงพ่อวิริยังค์อุปถัมภ์)\", subdistrict=\"พระโขนง\", district=\"บางจาก\", province=\"กรุงเทพมหานคร\")"
   ]
  },
  {
   "cell_type": "code",
   "execution_count": null,
   "metadata": {},
   "outputs": [],
   "source": []
  }
 ],
 "metadata": {
  "kernelspec": {
   "display_name": "ballot",
   "language": "python",
   "name": "python3"
  },
  "language_info": {
   "codemirror_mode": {
    "name": "ipython",
    "version": 3
   },
   "file_extension": ".py",
   "mimetype": "text/x-python",
   "name": "python",
   "nbconvert_exporter": "python",
   "pygments_lexer": "ipython3",
   "version": "3.10.10"
  },
  "orig_nbformat": 4
 },
 "nbformat": 4,
 "nbformat_minor": 2
}
