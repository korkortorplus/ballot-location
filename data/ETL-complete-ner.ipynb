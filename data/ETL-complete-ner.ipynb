{
 "cells": [
  {
   "cell_type": "code",
   "execution_count": 1,
   "metadata": {},
   "outputs": [
    {
     "data": {
      "text/html": [
       "<div>\n",
       "<style scoped>\n",
       "    .dataframe tbody tr th:only-of-type {\n",
       "        vertical-align: middle;\n",
       "    }\n",
       "\n",
       "    .dataframe tbody tr th {\n",
       "        vertical-align: top;\n",
       "    }\n",
       "\n",
       "    .dataframe thead th {\n",
       "        text-align: right;\n",
       "    }\n",
       "</style>\n",
       "<table border=\"1\" class=\"dataframe\">\n",
       "  <thead>\n",
       "    <tr style=\"text-align: right;\">\n",
       "      <th></th>\n",
       "      <th>รหัสจังหวัด</th>\n",
       "      <th>จังหวัด</th>\n",
       "      <th>รหัสสำนักทะเบียน</th>\n",
       "      <th>สำนักทะเบียน</th>\n",
       "      <th>รหัสตำบล</th>\n",
       "      <th>ตำบล</th>\n",
       "      <th>เขตเลือกตั้ง</th>\n",
       "      <th>หน่วยเลือกตั้ง</th>\n",
       "      <th>สถานที่เลือกตั้ง</th>\n",
       "      <th>อธิบายเพิ่มเติมสถานที่เลือกตั้ง</th>\n",
       "    </tr>\n",
       "  </thead>\n",
       "  <tbody>\n",
       "    <tr>\n",
       "      <th>0</th>\n",
       "      <td>10</td>\n",
       "      <td>กรุงเทพมหานคร</td>\n",
       "      <td>1001</td>\n",
       "      <td>ท้องถิ่นเขตพระนคร</td>\n",
       "      <td>100101</td>\n",
       "      <td>พระบรมมหาราชวัง</td>\n",
       "      <td>1</td>\n",
       "      <td>1</td>\n",
       "      <td>หอประชุม มหาวิทยาลัยศิลปากร ถนนมหาราช</td>\n",
       "      <td></td>\n",
       "    </tr>\n",
       "    <tr>\n",
       "      <th>1</th>\n",
       "      <td>10</td>\n",
       "      <td>กรุงเทพมหานคร</td>\n",
       "      <td>1001</td>\n",
       "      <td>ท้องถิ่นเขตพระนคร</td>\n",
       "      <td>100101</td>\n",
       "      <td>พระบรมมหาราชวัง</td>\n",
       "      <td>1</td>\n",
       "      <td>2</td>\n",
       "      <td>โรงเรียนวัดมหาธาตุ ถนนพระจันทร์</td>\n",
       "      <td></td>\n",
       "    </tr>\n",
       "    <tr>\n",
       "      <th>2</th>\n",
       "      <td>10</td>\n",
       "      <td>กรุงเทพมหานคร</td>\n",
       "      <td>1001</td>\n",
       "      <td>ท้องถิ่นเขตพระนคร</td>\n",
       "      <td>100101</td>\n",
       "      <td>พระบรมมหาราชวัง</td>\n",
       "      <td>1</td>\n",
       "      <td>3</td>\n",
       "      <td>ศาลาหน้าอาคารวาสนะประทานวิทยาสิทธิ์ 1 โรงเรียน...</td>\n",
       "      <td>ถนนสนามไชย</td>\n",
       "    </tr>\n",
       "    <tr>\n",
       "      <th>3</th>\n",
       "      <td>10</td>\n",
       "      <td>กรุงเทพมหานคร</td>\n",
       "      <td>1001</td>\n",
       "      <td>ท้องถิ่นเขตพระนคร</td>\n",
       "      <td>100101</td>\n",
       "      <td>พระบรมมหาราชวัง</td>\n",
       "      <td>1</td>\n",
       "      <td>4</td>\n",
       "      <td>โรงเรียนวัดพระเชตุพน ถนนมหาราช</td>\n",
       "      <td></td>\n",
       "    </tr>\n",
       "    <tr>\n",
       "      <th>4</th>\n",
       "      <td>10</td>\n",
       "      <td>กรุงเทพมหานคร</td>\n",
       "      <td>1001</td>\n",
       "      <td>ท้องถิ่นเขตพระนคร</td>\n",
       "      <td>100102</td>\n",
       "      <td>วังบูรพาภิรมย์</td>\n",
       "      <td>1</td>\n",
       "      <td>1</td>\n",
       "      <td>ตึกสามัคยาจารย์ โรงเรียนสวนกุหลาบวิทยาลัย ถนนต...</td>\n",
       "      <td></td>\n",
       "    </tr>\n",
       "  </tbody>\n",
       "</table>\n",
       "</div>"
      ],
      "text/plain": [
       "   รหัสจังหวัด        จังหวัด  รหัสสำนักทะเบียน       สำนักทะเบียน  รหัสตำบล   \n",
       "0           10  กรุงเทพมหานคร              1001  ท้องถิ่นเขตพระนคร    100101  \\\n",
       "1           10  กรุงเทพมหานคร              1001  ท้องถิ่นเขตพระนคร    100101   \n",
       "2           10  กรุงเทพมหานคร              1001  ท้องถิ่นเขตพระนคร    100101   \n",
       "3           10  กรุงเทพมหานคร              1001  ท้องถิ่นเขตพระนคร    100101   \n",
       "4           10  กรุงเทพมหานคร              1001  ท้องถิ่นเขตพระนคร    100102   \n",
       "\n",
       "              ตำบล  เขตเลือกตั้ง  หน่วยเลือกตั้ง   \n",
       "0  พระบรมมหาราชวัง             1               1  \\\n",
       "1  พระบรมมหาราชวัง             1               2   \n",
       "2  พระบรมมหาราชวัง             1               3   \n",
       "3  พระบรมมหาราชวัง             1               4   \n",
       "4   วังบูรพาภิรมย์             1               1   \n",
       "\n",
       "                                    สถานที่เลือกตั้ง   \n",
       "0              หอประชุม มหาวิทยาลัยศิลปากร ถนนมหาราช  \\\n",
       "1                    โรงเรียนวัดมหาธาตุ ถนนพระจันทร์   \n",
       "2  ศาลาหน้าอาคารวาสนะประทานวิทยาสิทธิ์ 1 โรงเรียน...   \n",
       "3                     โรงเรียนวัดพระเชตุพน ถนนมหาราช   \n",
       "4  ตึกสามัคยาจารย์ โรงเรียนสวนกุหลาบวิทยาลัย ถนนต...   \n",
       "\n",
       "  อธิบายเพิ่มเติมสถานที่เลือกตั้ง  \n",
       "0                                  \n",
       "1                                  \n",
       "2                      ถนนสนามไชย  \n",
       "3                                  \n",
       "4                                  "
      ]
     },
     "execution_count": 1,
     "metadata": {},
     "output_type": "execute_result"
    }
   ],
   "source": [
    "import pandas as pd\n",
    "\n",
    "def clean_data(df):\n",
    "    # Split text using string '#' in column: 'สถานที่เลือกตั้ง'\n",
    "    df_split = df['สถานที่เลือกตั้ง'].str.split(pat='#', expand=True).add_prefix('สถานที่เลือกตั้ง_')\n",
    "    df = pd.concat([df.iloc[:, :9], df_split, df.iloc[:, 9:]], axis=1)\n",
    "    df = df.drop(columns=['สถานที่เลือกตั้ง'])\n",
    "    # Rename column 'สถานที่เลือกตั้ง_0' to 'สถานที่เลือกตั้ง'\n",
    "    df = df.rename(columns={'สถานที่เลือกตั้ง_0': 'สถานที่เลือกตั้ง'})\n",
    "    # Rename column 'สถานที่เลือกตั้ง_1' to 'อธิบายเพิ่มเติมสถานที่เลือกตั้ง'\n",
    "    df = df.rename(columns={'สถานที่เลือกตั้ง_1': 'อธิบายเพิ่มเติมสถานที่เลือกตั้ง'})\n",
    "    return df\n",
    "\n",
    "# Loaded variable 'df' from URI: /home/din/UnixDevs/ballot-location/data/ballot_complete.csv\n",
    "df = pd.read_csv(r\"/home/din/UnixDevs/ballot-location/data/ballot_complete.csv\", engine='pyarrow')\n",
    "\n",
    "df_clean = clean_data(df.copy())\n",
    "df_clean.head()"
   ]
  },
  {
   "attachments": {},
   "cell_type": "markdown",
   "metadata": {},
   "source": [
    "# Apply ner"
   ]
  },
  {
   "cell_type": "code",
   "execution_count": 13,
   "metadata": {},
   "outputs": [
    {
     "name": "stderr",
     "output_type": "stream",
     "text": [
      "2023-05-10 23:00:51.734975: I tensorflow/core/platform/cpu_feature_guard.cc:182] This TensorFlow binary is optimized to use available CPU instructions in performance-critical operations.\n",
      "To enable the following instructions: AVX2 FMA, in other operations, rebuild TensorFlow with the appropriate compiler flags.\n",
      "2023-05-10 23:00:52.215890: W tensorflow/compiler/tf2tensorrt/utils/py_utils.cc:38] TF-TRT Warning: Could not find TensorRT\n"
     ]
    },
    {
     "data": {
      "application/vnd.jupyter.widget-view+json": {
       "model_id": "58239291fc67481587b162c3851de59b",
       "version_major": 2,
       "version_minor": 0
      },
      "text/plain": [
       "Downloading (…)tencepiece.bpe.model:   0%|          | 0.00/905k [00:00<?, ?B/s]"
      ]
     },
     "metadata": {},
     "output_type": "display_data"
    },
    {
     "data": {
      "application/vnd.jupyter.widget-view+json": {
       "model_id": "ba95fad368fb489d82e072d454cae9d3",
       "version_major": 2,
       "version_minor": 0
      },
      "text/plain": [
       "Downloading (…)okenizer_config.json:   0%|          | 0.00/282 [00:00<?, ?B/s]"
      ]
     },
     "metadata": {},
     "output_type": "display_data"
    },
    {
     "data": {
      "application/vnd.jupyter.widget-view+json": {
       "model_id": "722b89bd316c455d918d5d06d1486c43",
       "version_major": 2,
       "version_minor": 0
      },
      "text/plain": [
       "Downloading (…)lve/main/config.json:   0%|          | 0.00/546 [00:00<?, ?B/s]"
      ]
     },
     "metadata": {},
     "output_type": "display_data"
    },
    {
     "data": {
      "application/vnd.jupyter.widget-view+json": {
       "model_id": "9bc2f7debce6497f979621fec873afde",
       "version_major": 2,
       "version_minor": 0
      },
      "text/plain": [
       "Downloading (…)okenizer_config.json:   0%|          | 0.00/550 [00:00<?, ?B/s]"
      ]
     },
     "metadata": {},
     "output_type": "display_data"
    },
    {
     "data": {
      "application/vnd.jupyter.widget-view+json": {
       "model_id": "cf90c7fdf1654e8990835703161bb750",
       "version_major": 2,
       "version_minor": 0
      },
      "text/plain": [
       "Downloading (…)tencepiece.bpe.model:   0%|          | 0.00/905k [00:00<?, ?B/s]"
      ]
     },
     "metadata": {},
     "output_type": "display_data"
    },
    {
     "data": {
      "application/vnd.jupyter.widget-view+json": {
       "model_id": "37c13b5c998c441cae306ff5f7c09cc7",
       "version_major": 2,
       "version_minor": 0
      },
      "text/plain": [
       "Downloading (…)/main/tokenizer.json:   0%|          | 0.00/2.18M [00:00<?, ?B/s]"
      ]
     },
     "metadata": {},
     "output_type": "display_data"
    },
    {
     "data": {
      "application/vnd.jupyter.widget-view+json": {
       "model_id": "82a4c53a0ca84c9592784a6fe0026cf0",
       "version_major": 2,
       "version_minor": 0
      },
      "text/plain": [
       "Downloading (…)cial_tokens_map.json:   0%|          | 0.00/364 [00:00<?, ?B/s]"
      ]
     },
     "metadata": {},
     "output_type": "display_data"
    },
    {
     "data": {
      "application/vnd.jupyter.widget-view+json": {
       "model_id": "ee10bc7825f7448e8bb69102d56fb884",
       "version_major": 2,
       "version_minor": 0
      },
      "text/plain": [
       "Downloading (…)lve/main/config.json:   0%|          | 0.00/2.27k [00:00<?, ?B/s]"
      ]
     },
     "metadata": {},
     "output_type": "display_data"
    },
    {
     "data": {
      "application/vnd.jupyter.widget-view+json": {
       "model_id": "00169cdb33a5450a9fc56eebe363b187",
       "version_major": 2,
       "version_minor": 0
      },
      "text/plain": [
       "Downloading pytorch_model.bin:   0%|          | 0.00/419M [00:00<?, ?B/s]"
      ]
     },
     "metadata": {},
     "output_type": "display_data"
    }
   ],
   "source": [
    "from pythainlp.tag import NER\n",
    "ner = NER(\"thainer-v2\")"
   ]
  },
  {
   "cell_type": "code",
   "execution_count": 17,
   "metadata": {},
   "outputs": [],
   "source": [
    "df_clean['NER'] = df_clean['สถานที่เลือกตั้ง'].apply(lambda x: ner.tag(x, tag=True))"
   ]
  },
  {
   "cell_type": "code",
   "execution_count": 20,
   "metadata": {},
   "outputs": [],
   "source": [
    "df_clean.to_csv('ballot_complete_clean.csv.gz', index=False)"
   ]
  },
  {
   "cell_type": "code",
   "execution_count": null,
   "metadata": {},
   "outputs": [],
   "source": []
  }
 ],
 "metadata": {
  "kernelspec": {
   "display_name": "ballot",
   "language": "python",
   "name": "python3"
  },
  "language_info": {
   "codemirror_mode": {
    "name": "ipython",
    "version": 3
   },
   "file_extension": ".py",
   "mimetype": "text/x-python",
   "name": "python",
   "nbconvert_exporter": "python",
   "pygments_lexer": "ipython3",
   "version": "3.10.10"
  },
  "orig_nbformat": 4
 },
 "nbformat": 4,
 "nbformat_minor": 2
}
