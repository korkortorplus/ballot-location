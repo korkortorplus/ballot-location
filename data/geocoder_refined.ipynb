{
 "cells": [
  {
   "cell_type": "code",
   "execution_count": 1,
   "metadata": {},
   "outputs": [],
   "source": [
    "%load_ext dotenv\n",
    "%dotenv\n"
   ]
  },
  {
   "cell_type": "code",
   "execution_count": 2,
   "metadata": {},
   "outputs": [],
   "source": [
    "import pandas as pd\n",
    "import os\n",
    "import googlemaps\n",
    "from tqdm import tqdm\n",
    "tqdm.pandas(desc=\"Geocoding..\")"
   ]
  },
  {
   "cell_type": "code",
   "execution_count": 3,
   "metadata": {},
   "outputs": [],
   "source": [
    "apikey = os.getenv(\"GMAP_API_KEY\")\n",
    "assert apikey is not None, \"Please set GMAP_API_KEY in .env file\""
   ]
  },
  {
   "cell_type": "code",
   "execution_count": 4,
   "metadata": {},
   "outputs": [],
   "source": [
    "gmaps = googlemaps.Client(key=apikey)"
   ]
  },
  {
   "cell_type": "code",
   "execution_count": 5,
   "metadata": {},
   "outputs": [],
   "source": [
    "# create file cache\n",
    "import joblib\n",
    "\n",
    "cache=joblib.Memory(\".cache\", verbose=0)\n",
    "\n",
    "\n",
    "@cache.cache\n",
    "def geocode(street_address, subdistrict, district=None, province=None, country=\"TH\"):\n",
    "    # components = {'administrative_area_level_1': province, 'sublocality_level_1': district, 'sublocality_level_2': subdistrict, 'country': country}\n",
    "    # # remove None values\n",
    "    # components = {k: v for k, v in components.items() if v is not None}\n",
    "\n",
    "    components = {'sublocality_level_2': subdistrict, 'country': country}\n",
    "    if district is not None:\n",
    "        components['sublocality_level_1'] = district\n",
    "    if province is not None:\n",
    "        components['administrative_area_level_1'] = province\n",
    "\n",
    "    return gmaps.geocode(street_address, language=\"th\", components=components)\n",
    "\n",
    "\n"
   ]
  },
  {
   "cell_type": "code",
   "execution_count": 17,
   "metadata": {},
   "outputs": [
    {
     "data": {
      "text/plain": [
       "[{'address_components': [{'long_name': '132',\n",
       "    'short_name': '132',\n",
       "    'types': ['street_number']},\n",
       "   {'long_name': 'ซอย ปุณณวิถี',\n",
       "    'short_name': 'ซอย ปุณณวิถี',\n",
       "    'types': ['route']},\n",
       "   {'long_name': 'แขวงบางจาก',\n",
       "    'short_name': 'แขวงบางจาก',\n",
       "    'types': ['political', 'sublocality', 'sublocality_level_2']},\n",
       "   {'long_name': 'เขตพระโขนง',\n",
       "    'short_name': 'เขตพระโขนง',\n",
       "    'types': ['political', 'sublocality', 'sublocality_level_1']},\n",
       "   {'long_name': 'กรุงเทพมหานคร',\n",
       "    'short_name': 'กรุงเทพมหานคร',\n",
       "    'types': ['administrative_area_level_1', 'political']},\n",
       "   {'long_name': 'ประเทศไทย',\n",
       "    'short_name': 'TH',\n",
       "    'types': ['country', 'political']},\n",
       "   {'long_name': '10260', 'short_name': '10260', 'types': ['postal_code']}],\n",
       "  'formatted_address': '132 ซอย ปุณณวิถี แขวงบางจาก เขตพระโขนง กรุงเทพมหานคร 10260 ประเทศไทย',\n",
       "  'geometry': {'location': {'lat': 13.6885237, 'lng': 100.6154805},\n",
       "   'location_type': 'ROOFTOP',\n",
       "   'viewport': {'northeast': {'lat': 13.6897808302915,\n",
       "     'lng': 100.6168606802915},\n",
       "    'southwest': {'lat': 13.6870828697085, 'lng': 100.6141627197085}}},\n",
       "  'partial_match': True,\n",
       "  'place_id': 'ChIJ72Eo2gGg4jARbCgln0qpYYc',\n",
       "  'plus_code': {'compound_code': 'MJQ8+C5 กรุงเทพมหานคร ประเทศไทย',\n",
       "   'global_code': '7P52MJQ8+C5'},\n",
       "  'types': ['establishment', 'point_of_interest', 'school']}]"
      ]
     },
     "execution_count": 17,
     "metadata": {},
     "output_type": "execute_result"
    }
   ],
   "source": [
    "geocode(street_address=\"โรงเรียนวัดธรรมมงคล (หลวงพ่อวิริยังค์อุปถัมภ์)\", subdistrict=\"พระโขนง\", district=\"บางจาก\", province=\"กรุงเทพมหานคร\")"
   ]
  },
  {
   "cell_type": "code",
   "execution_count": 6,
   "metadata": {},
   "outputs": [],
   "source": [
    "df = pd.read_csv('ballot_complete_clean.csv.gz')"
   ]
  },
  {
   "cell_type": "code",
   "execution_count": 7,
   "metadata": {},
   "outputs": [
    {
     "data": {
      "text/plain": [
       "Index(['รหัสจังหวัด', 'จังหวัด', 'รหัสสำนักทะเบียน', 'สำนักทะเบียน',\n",
       "       'รหัสตำบล', 'ตำบล', 'เขตเลือกตั้ง', 'หน่วยเลือกตั้ง',\n",
       "       'สถานที่เลือกตั้ง', 'อธิบายเพิ่มเติมสถานที่เลือกตั้ง', 'NER'],\n",
       "      dtype='object')"
      ]
     },
     "execution_count": 7,
     "metadata": {},
     "output_type": "execute_result"
    }
   ],
   "source": [
    "df.columns"
   ]
  },
  {
   "cell_type": "code",
   "execution_count": 8,
   "metadata": {},
   "outputs": [],
   "source": [
    "sample = df.sample(n=100)"
   ]
  },
  {
   "cell_type": "code",
   "execution_count": 9,
   "metadata": {},
   "outputs": [
    {
     "name": "stderr",
     "output_type": "stream",
     "text": [
      "Geocoding..: 100%|██████████| 100/100 [00:11<00:00,  8.68it/s]\n"
     ]
    }
   ],
   "source": [
    "sample['geocoded_obj'] = sample.progress_apply(lambda x: geocode(street_address=x['สถานที่เลือกตั้ง'], subdistrict=x[\"ตำบล\"], province=x[\"จังหวัด\"]), axis=1)"
   ]
  },
  {
   "cell_type": "code",
   "execution_count": 10,
   "metadata": {},
   "outputs": [
    {
     "data": {
      "text/plain": [
       "geocoded_obj\n",
       "1    87\n",
       "2    10\n",
       "0     3\n",
       "Name: count, dtype: int64"
      ]
     },
     "execution_count": 10,
     "metadata": {},
     "output_type": "execute_result"
    }
   ],
   "source": [
    "# check it is empty list\n",
    "sample.geocoded_obj.apply(lambda x: len(x)).value_counts()"
   ]
  },
  {
   "cell_type": "code",
   "execution_count": 11,
   "metadata": {},
   "outputs": [],
   "source": [
    "sample.to_excel(\"sample_geocoded.xlsx\")"
   ]
  },
  {
   "cell_type": "code",
   "execution_count": 12,
   "metadata": {},
   "outputs": [],
   "source": [
    "sample.to_pickle(\"sample_geocoded.pkl.gz\")"
   ]
  },
  {
   "cell_type": "code",
   "execution_count": null,
   "metadata": {},
   "outputs": [],
   "source": []
  }
 ],
 "metadata": {
  "kernelspec": {
   "display_name": "ballot",
   "language": "python",
   "name": "python3"
  },
  "language_info": {
   "codemirror_mode": {
    "name": "ipython",
    "version": 3
   },
   "file_extension": ".py",
   "mimetype": "text/x-python",
   "name": "python",
   "nbconvert_exporter": "python",
   "pygments_lexer": "ipython3",
   "version": "3.10.10"
  },
  "orig_nbformat": 4
 },
 "nbformat": 4,
 "nbformat_minor": 2
}
